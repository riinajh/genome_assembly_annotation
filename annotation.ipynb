{
 "cells": [
  {
   "cell_type": "markdown",
   "id": "579b3b38-fca1-4653-ac3d-b49f6a885c63",
   "metadata": {},
   "source": [
    "# 1016\n",
    "* Plant cells contain multiple genomes:\n",
    "  * nuclear genome - linear, recombining, often more than diploid\n",
    "    * high transposon density in centromeric region, arms have higher gene density\n",
    "  * mitochondria - circular, non-recombining\n",
    "    * increasing size increasing intergenic regions\n",
    "    * considerable gene loss to nucleus\n",
    "  * chloroplast - circular, non-recombining\n",
    "    * rubisco splitting between chloroplast and nuclus to ensure cooperativity\n",
    "\n",
    "---\n",
    "\n",
    "### misc details about plant genomes \n",
    "\n",
    "* LTR - ~100bp repeats, in the centromere attract spindles\n",
    "* since centromere does not recombine, transposons can jump there and stay conserved\n",
    "* 85% of mutations in arabidopsis are S:W transformations\n",
    "* 7E-9 per site substitution rate\n",
    "* mutation rate scales with genome size - evolution has tuned mutation rates to balance adaptability vs conservation\n",
    "* 'DSBs may drive genome evolution'\n",
    "* 'If everything evolved purely through SNPs we would still be bacteria'\n",
    "\n",
    "---\n",
    "\n",
    "### About transposable elements\n",
    "\n",
    "* type I transposons: flanked by ltrs (in direct repeat), contain promoter, transcriptional machinery. replicates without excision. some are nonfunctional\n",
    "* type II transposons: flanked by inverted repeats. contain transposases, which excise (through loop on IRs) and jump around\n",
    "* transposons create microhomologous regions everywhere through propogation of LTR and IR element, which contribute to genome rearrangement in the case of DSBs\n",
    "* number of transposons also scales with genome size\n",
    "* you can date the age of a typeI-transposon by the divergence of their flanking ltrs\n",
    "* \n",
    "\n",
    "---\n",
    "\n",
    "###  Transposable element annotation & classification\n",
    "\n",
    "* "
   ]
  },
  {
   "cell_type": "markdown",
   "id": "379c1b23-e983-4c2e-89d4-81ad54ccca3e",
   "metadata": {},
   "source": [
    "* qc of annotation by visualization - gatk?\n",
    "* "
   ]
  }
 ],
 "metadata": {
  "kernelspec": {
   "display_name": "Python 3 (ipykernel)",
   "language": "python",
   "name": "python3"
  },
  "language_info": {
   "codemirror_mode": {
    "name": "ipython",
    "version": 3
   },
   "file_extension": ".py",
   "mimetype": "text/x-python",
   "name": "python",
   "nbconvert_exporter": "python",
   "pygments_lexer": "ipython3",
   "version": "3.10.12"
  }
 },
 "nbformat": 4,
 "nbformat_minor": 5
}
